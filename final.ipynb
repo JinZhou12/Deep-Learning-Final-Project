{
 "cells": [
  {
   "cell_type": "markdown",
   "metadata": {},
   "source": [
    "### Imports"
   ]
  },
  {
   "cell_type": "code",
   "execution_count": 133,
   "metadata": {},
   "outputs": [],
   "source": [
    "import csv\n",
    "import numpy as np\n",
    "from collections import defaultdict\n",
    "from PIL import Image\n"
   ]
  },
  {
   "cell_type": "code",
   "execution_count": 134,
   "metadata": {},
   "outputs": [],
   "source": [
    "def rle_decode(mask_rle, shape): \n",
    "    '''     \n",
    "    mask_rle: run-length as string formated (start length)     \n",
    "    shape: (height,width) of array to return      \n",
    "    Returns numpy array, 1 - mask, 0 - background      \n",
    "    ''' \n",
    "    s = mask_rle.split() \n",
    "    starts, lengths = [np.asarray(x, dtype=int) for x in (s[0:][::2], s[1:][::2])] \n",
    "    starts -= 1 \n",
    "    ends = starts + lengths \n",
    "    img = np.zeros(shape[0]*shape[1], dtype=np.uint8) \n",
    "    for lo, hi in zip(starts, ends): \n",
    "         img[lo:hi] = 1 \n",
    "    return img.reshape(shape)"
   ]
  },
  {
   "cell_type": "code",
   "execution_count": 137,
   "metadata": {},
   "outputs": [],
   "source": [
    "segm = csv.reader(open('airbus-ship-detection/train_ship_segmentations_v2.csv', 'r'))\n",
    "masks = defaultdict(list)\n",
    "while True:\n",
    "    try:\n",
    "        curr = next(segm);\n",
    "        masks[curr[0]].append(curr[1])\n",
    "    except StopIteration:\n",
    "        break"
   ]
  },
  {
   "cell_type": "code",
   "execution_count": 175,
   "metadata": {},
   "outputs": [],
   "source": [
    "sample_img = '0a2e15e29.jpg'"
   ]
  },
  {
   "cell_type": "code",
   "execution_count": 176,
   "metadata": {},
   "outputs": [
    {
     "name": "stderr",
     "output_type": "stream",
     "text": [
      "/var/folders/xs/59pm6k495sg_1nv4qwzgdqkr0000gn/T/ipykernel_61923/3413726700.py:4: DeprecationWarning: FLIP_TOP_BOTTOM is deprecated and will be removed in Pillow 10 (2023-07-01). Use Transpose.FLIP_TOP_BOTTOM instead.\n",
      "  adjusted_img = og_image.rotate(90).transpose(Image.FLIP_TOP_BOTTOM)\n"
     ]
    }
   ],
   "source": [
    "# Initialize an array of zeros representing the image\n",
    "segmentation_mask = np.zeros((768,768), dtype=np.uint8)\n",
    "og_image = Image.open(f'airbus-ship-detection/train_v2/{sample_img}')\n",
    "adjusted_img = og_image.rotate(90).transpose(Image.FLIP_TOP_BOTTOM)\n",
    "img_arr = np.asarray(adjusted_img).copy()\n",
    "\n",
    "# RLE-encoded data\n",
    "segms = masks[sample_img]\n",
    "mask = np.zeros((768,768), dtype=np.uint8)\n",
    "\n",
    "for i in range(len(segms)):\n",
    "    mask += rle_decode(segms[i], (768,768))\n",
    "    \n",
    "img_arr[mask == 1] = [255,255,255]\n",
    "\n",
    "segmentation_image = Image.fromarray(img_arr)\n",
    "segmentation_image.save('segmentation_result.png')"
   ]
  }
 ],
 "metadata": {
  "kernelspec": {
   "display_name": "Python 3",
   "language": "python",
   "name": "python3"
  },
  "language_info": {
   "codemirror_mode": {
    "name": "ipython",
    "version": 3
   },
   "file_extension": ".py",
   "mimetype": "text/x-python",
   "name": "python",
   "nbconvert_exporter": "python",
   "pygments_lexer": "ipython3",
   "version": "3.10.13"
  }
 },
 "nbformat": 4,
 "nbformat_minor": 2
}
